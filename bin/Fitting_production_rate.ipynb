{
 "cells": [
  {
   "cell_type": "markdown",
   "id": "886a4ae8",
   "metadata": {},
   "source": [
    "# Computing Necessairy Secretion Rate\n",
    "In this notebook, we will derive the necessairy production rate of different inhibitors in a probiotic bacteria for that probiotic bacteria to be able to affect the Curli formation in a medium with $10^9\\frac{mol}{dm^3}$ Curli-producing bacteria and $10^9\\frac{mol}{dm^3}$ inhibitor producing, probiotic bacteria. To reduce the amount of code in this notebook, we have implemented the Curli fibril formation described in \"this\" notebook, into a single class. "
   ]
  },
  {
   "cell_type": "code",
   "execution_count": 1,
   "id": "262e3772",
   "metadata": {},
   "outputs": [
    {
     "name": "stdout",
     "output_type": "stream",
     "text": [
      "Documentation UniformFibrilFormation\n",
      "\n",
      "    Simulates Curli fibril formation given environment and inhibitors.\n",
      "\n",
      "    ...\n",
      "\n",
      "    Attributes\n",
      "    ----------\n",
      "    dist: float\n",
      "        total simulated distance from bacteria cell membrane\n",
      "    CSGBRATE: constant 1.3e-13\n",
      "        production rate of CsgB protein (nbr/bacteria/s)\n",
      "    xsteps: int\n",
      "        number of bins to keep track of fibrils in\n",
      "    deltat: float\n",
      "        length of one timestep\n",
      "    deltax: float\n",
      "        length of one bin\n",
      "    cBacteria: float\n",
      "        bacteria concentration\n",
      "\n",
      "    Methods\n",
      "    ----------\n",
      "    timeStep:\n",
      "        Steps time forward one timestep\n",
      "        Args:\n",
      "            None\n",
      "        Returns:\n",
      "            None\n",
      "    getTime:\n",
      "        Returns the total time simulated this far\n",
      "        Args:\n",
      "            None\n",
      "        Returns:\n",
      "            total time (float)\n",
      "    getMass:\n",
      "        Returns the total mass of Curli fibrils (/CsgA mass)\n",
      "        Args:\n",
      "            None\n",
      "        Returns:\n",
      "            total mass (int)\n",
      "    getMassProfile:\n",
      "        Returns mass distribution of Curli at different distances from the membrane\n",
      "        Args:\n",
      "            None\n",
      "        Returns:\n",
      "            1d array of mass distribution (np.array)\n",
      "    getFibrils:\n",
      "        Returns list of all fibrils\n",
      "        Args:\n",
      "            None\n",
      "        Returns:\n",
      "            list of CurliFibril objects (list)\n",
      "\n",
      "    \n",
      "UniformFibrilFormation __init__ function\n",
      "\n",
      "        Initialises the class.\n",
      "        \n",
      "        Args:\n",
      "            dist (float): Maximum distance from cell membrane to simulate (m)\n",
      "            xsteps (int): Number of bins to devide dist into\n",
      "            deltat (float): Length of one timestep (s)\n",
      "            inhibitors (list): List of inhibitor objects. Defaults to [].\n",
      "            cBacteria (float): Bacteria concentration in environment. Defaults to 1e12.\n",
      "            inital_concentration (float): Inital CsgA concentration. Defaults to None.\n",
      "            fibril0 (UniformFibrilFormation): Inital fibrils. Defaults to None.\n",
      "        \n",
      "        Returns:\n",
      "            None\n",
      "        \n",
      "Inhibitors\n",
      "Utility class to simulate the behavior of inhibitors secreted from a bacteria. \n",
      "\n",
      "        Args:\n",
      "            dist (float): distance from the membrane to simulate\n",
      "            xsteps (int): number of bins\n",
      "            deltat (float): length of one timestep\n",
      "            ke (float): secretion rate\n",
      "            how (str, optional): \"spherical\" or \"uniform\". Defaults to 'uniform'.\n",
      "            U0 (float or list<int>[xsteps], optional): Initial concentration profile. Defaults to None.\n",
      "        \n"
     ]
    }
   ],
   "source": [
    "%matplotlib inline\n",
    "import matplotlib.pyplot as plt\n",
    "import numpy as np\n",
    "from scipy.constants import N_A\n",
    "from IPython.display import display, Math, Latex\n",
    "from fibrilformation import UniformFibrilFormation, CurliFibril\n",
    "from numericaldiffusion import Inhibitor\n",
    "print('Documentation UniformFibrilFormation')\n",
    "print(UniformFibrilFormation.__doc__)\n",
    "print('UniformFibrilFormation __init__ function')\n",
    "print(UniformFibrilFormation.__init__.__doc__)\n",
    "print('Inhibitors')\n",
    "print(Inhibitor.__init__.__doc__)"
   ]
  },
  {
   "cell_type": "code",
   "execution_count": 2,
   "id": "a85499ee",
   "metadata": {},
   "outputs": [
    {
     "data": {
      "text/latex": [
       "Maximum distance from cell: $20.0\\mu m$"
      ],
      "text/plain": [
       "<IPython.core.display.Latex object>"
      ]
     },
     "metadata": {},
     "output_type": "display_data"
    },
    {
     "data": {
      "text/latex": [
       "Length of one xBin: $0.04\\mu m$"
      ],
      "text/plain": [
       "<IPython.core.display.Latex object>"
      ]
     },
     "metadata": {},
     "output_type": "display_data"
    },
    {
     "data": {
      "text/latex": [
       "Total simulated time: $5.0 hours$"
      ],
      "text/plain": [
       "<IPython.core.display.Latex object>"
      ]
     },
     "metadata": {},
     "output_type": "display_data"
    },
    {
     "data": {
      "text/latex": [
       "Length of one timestep: $5s$"
      ],
      "text/plain": [
       "<IPython.core.display.Latex object>"
      ]
     },
     "metadata": {},
     "output_type": "display_data"
    },
    {
     "data": {
      "text/latex": [
       "Bacteria concentration: $10^9 bac/dm^3$"
      ],
      "text/plain": [
       "<IPython.core.display.Latex object>"
      ]
     },
     "metadata": {},
     "output_type": "display_data"
    }
   ],
   "source": [
    "MAX_DISTANCE = 2e-5 #m\n",
    "N_XSTEPS = 500\n",
    "x_step_length = MAX_DISTANCE / N_XSTEPS\n",
    "TIME_STEP_LENGTH = 5 #s\n",
    "TOTAL_TIME = 5*3600 #s\n",
    "C_BACTERIA = 1e9 #bac / dm3\n",
    "\n",
    "display(Latex(f'Maximum distance from cell: ${MAX_DISTANCE *1e6}\\mu m$'))\n",
    "display(Latex(f'Length of one xBin: ${x_step_length*1e6}\\mu m$'))\n",
    "display(Latex(f'Total simulated time: ${TOTAL_TIME /3600} hours$'))\n",
    "display(Latex(f'Length of one timestep: ${TIME_STEP_LENGTH}s$'))\n",
    "display(Latex(f'Bacteria concentration: $10^{int(np.log10(C_BACTERIA))} bac/dm^3$'))"
   ]
  },
  {
   "cell_type": "markdown",
   "id": "86a6ca2c",
   "metadata": {},
   "source": [
    "We can now start defining our inhibitors. We have already done this for QFG(link) but it can be done in a similar fashion for CsgC.Inheriting from the previously constructed Inhibitor class gives the object some increased flexibility."
   ]
  },
  {
   "cell_type": "code",
   "execution_count": 3,
   "id": "7c5e6c85",
   "metadata": {},
   "outputs": [],
   "source": [
    "class QFG(Inhibitor):\n",
    "    \"\"\"The inhibitor binding to CsgA. \n",
    "    The binding constant Ka was estimated by assuming first order binding to the CsgA monomers \\\n",
    "        and then computing the equilibrium constant from previous published results. \n",
    "    \"\"\"\n",
    "    Ka = 0.2\n",
    "    name = 'QFG'\n",
    "    def __init__(self, pinh):\n",
    "        super().__init__(MAX_DISTANCE, N_XSTEPS, TIME_STEP_LENGTH, pinh, cBacteria=C_BACTERIA)\n",
    "\n",
    "    def bindingFunc(self, monC):\n",
    "        \"\"\"The function declaring how the inhibitor will affect the CsgA concentration. \\\n",
    "            The function edits the concentration inplace. \n",
    "            Note that the function only is implemented for uniform concentrations. \n",
    "\n",
    "        Args:\n",
    "            monC (CsgADiffusion): An object describing the CsgA monomers.\n",
    "        \"\"\"\n",
    "        if self.how == 'uniform' and monC.how == 'uniform':\n",
    "            self.c -= max(self.Ka*self.c*monC.c*self.deltat,0)\n",
    "            monC.c -= max(self.Ka*self.c*monC.c*self.deltat,0)\n",
    "\n",
    "class CsgC(Inhibitor):\n",
    "    \"\"\"The CsgC chaperone. The function for rate inhibition was derived in a seperate notebook.\n",
    "    \"\"\"\n",
    "    name = 'CsgC'\n",
    "    \n",
    "    def R(self,r):\n",
    "        C1 = 163\n",
    "        C2 = -213\n",
    "        return  1/(1+C1*r)**3*(2+C2*r)/(2+2*C2*r+2*C2**2*r**2)\n",
    "    \n",
    "    def __init__(self, pinh):\n",
    "        super().__init__(MAX_DISTANCE, N_XSTEPS, TIME_STEP_LENGTH, pinh, cBacteria=C_BACTERIA)\n",
    "    \n",
    "    def rateFunc(self, monC, kwrates):\n",
    "        \"\"\"A function describing the affect the CsgC concentration will have on the reaction rates.\\\n",
    "            Values computed by fitting an exponential function to previously published data. \n",
    "            The CsgC is assumed to not degrade or diffuse away. -_('H')_-\n",
    "\n",
    "\n",
    "        Args:\n",
    "            monC (CsgADiffusion): The monomer concentration at the given timeHas no affect on the CsgC \n",
    "            kwrates (dict<string, float>): Rate constants in a dictionary\n",
    "\n",
    "        Returns:\n",
    "            dict<string,float>: New rate constants\n",
    "        \"\"\"\n",
    "        kwrates['kplus'] = np.sqrt(max(5/3*self.R(self.c/max(monC.c,1e-16)), 0))*kwrates['kplus']\n",
    "        return kwrates\n",
    "\n"
   ]
  },
  {
   "cell_type": "markdown",
   "id": "6df444f0",
   "metadata": {},
   "source": [
    "The constant $pinh$ is the inhibitor production rate for the probiotic bacteria. Let's define \"<i> a significant decrease in Curli formation</i>\" as a decrease to 50% of the original Curli fibril formation. We can now, similarly to how we derived the reaction rate of the QFG inhibitor, find the necessairy production rate of each of the inhibitors. "
   ]
  },
  {
   "cell_type": "code",
   "execution_count": 4,
   "id": "eb698b89",
   "metadata": {},
   "outputs": [
    {
     "name": "stdout",
     "output_type": "stream",
     "text": [
      "Running 3600 timesteps of 5 s\n"
     ]
    },
    {
     "data": {
      "image/png": "[encoded data removed]",
      "text/plain": [
       "<Figure size 432x288 with 1 Axes>"
      ]
     },
     "metadata": {
      "needs_background": "light"
     },
     "output_type": "display_data"
    }
   ],
   "source": [
    "from time import time\n",
    "\n",
    "def simulate_fibrilation(pinh, inhibitor):\n",
    "    n_time_steps = int(TOTAL_TIME / TIME_STEP_LENGTH)\n",
    "    inh = inhibitor(pinh)\n",
    "    \n",
    "    \n",
    "    model = UniformFibrilFormation(MAX_DISTANCE, N_XSTEPS, TIME_STEP_LENGTH, inhibitors=[inh], cBacteria=C_BACTERIA)\n",
    "\n",
    "    total_mass_list = []\n",
    "    time_list = []\n",
    "    print(f'Running {n_time_steps} timesteps of {TIME_STEP_LENGTH} s')\n",
    "    for t in range(n_time_steps):\n",
    "        model.timeStep()\n",
    "        total_mass_list.append(model.getMass())\n",
    "        time_list.append(model.getTime())\n",
    "    return model, time_list, total_mass_list\n",
    "\n",
    "_, time_list, total_mass_list = simulate_fibrilation(0, QFG)\n",
    "plt.plot(time_list, total_mass_list)\n",
    "plt.show()\n",
    "fit_mass = total_mass_list[-1] * 0.5"
   ]
  },
  {
   "cell_type": "code",
   "execution_count": 5,
   "id": "2375e9ab",
   "metadata": {},
   "outputs": [
    {
     "name": "stdout",
     "output_type": "stream",
     "text": [
      "pinh = 1e-08\n",
      "Running 3600 timesteps of 5 s\n",
      "Finished in 27.405707359313965s, Total mass: 0, error: 1.0\n",
      "\n",
      "pinh = 1e-12\n",
      "Running 3600 timesteps of 5 s\n",
      "Finished in 28.345357179641724s, Total mass: 0, error: 1.0\n",
      "\n",
      "pinh = 1e-14\n",
      "Running 3600 timesteps of 5 s\n",
      "Finished in 51.40396451950073s, Total mass: 325357, error: 1.4023465477394725\n",
      "\n",
      "pinh = 1e-13\n",
      "Running 3600 timesteps of 5 s\n",
      "Finished in 39.2979199886322s, Total mass: 275505, error: 1.0342530993184824\n",
      "\n",
      "pinh = 3.162277660168379e-13\n",
      "Running 3600 timesteps of 5 s\n",
      "Finished in 36.03006911277771s, Total mass: 165952, error: 0.22534389698227164\n",
      "\n",
      "pinh = 5.62341325190349e-13\n",
      "Running 3600 timesteps of 5 s\n",
      "Finished in 36.28010869026184s, Total mass: 76838, error: 0.4326493542932668\n",
      "\n",
      "pinh = 4.216965034285822e-13\n",
      "Running 3600 timesteps of 5 s\n",
      "Finished in 37.47970533370972s, Total mass: 122350, error: 0.09660127147740949\n",
      "\n",
      "pinh = 3.651741272548377e-13\n",
      "Running 3600 timesteps of 5 s\n",
      "Finished in 37.56390619277954s, Total mass: 144922, error: 0.0700641645684581\n",
      "\n",
      "pinh = 3.924189758484536e-13\n",
      "Running 3600 timesteps of 5 s\n",
      "Finished in 41.50740385055542s, Total mass: 133468, error: 0.014509019219835606\n",
      "\n",
      "##################DONE#############\n",
      "pinh = 3.924189758484536e-13\n",
      "Error: 0.014509019219835606\n",
      "T = 18000 h done in 336.37808179855347s \n",
      "\n"
     ]
    },
    {
     "data": {
      "image/png": "[encoded data removed]",
      "text/plain": [
       "<Figure size 432x288 with 1 Axes>"
      ]
     },
     "metadata": {
      "needs_background": "light"
     },
     "output_type": "display_data"
    },
    {
     "name": "stdout",
     "output_type": "stream",
     "text": [
      "pinh = 1e-08\n",
      "Running 3600 timesteps of 5 s\n",
      "Finished in 53.74905014038086s, Total mass: 269750, error: 0.9917597631301087\n",
      "\n",
      "pinh = 0.0001\n",
      "Running 3600 timesteps of 5 s\n",
      "Finished in 37.935171604156494s, Total mass: 108113, error: 0.2017233613668752\n",
      "\n",
      "pinh = 1e-06\n",
      "Running 3600 timesteps of 5 s\n",
      "Finished in 51.82992172241211s, Total mass: 266655, error: 0.9689071348932683\n",
      "\n",
      "pinh = 1e-05\n",
      "Running 3600 timesteps of 5 s\n",
      "Finished in 60.16672134399414s, Total mass: 238974, error: 0.764518248875828\n",
      "\n",
      "pinh = 3.1622776601683795e-05\n",
      "Running 3600 timesteps of 5 s\n",
      "Finished in 45.458900690078735s, Total mass: 191127, error: 0.41122916866642556\n",
      "\n",
      "pinh = 5.623413251903491e-05\n",
      "Running 3600 timesteps of 5 s\n",
      "Finished in 37.457157611846924s, Total mass: 151471, error: 0.11842017824311646\n",
      "\n",
      "pinh = 7.498942093324559e-05\n",
      "Running 3600 timesteps of 5 s\n",
      "Finished in 34.368072271347046s, Total mass: 129687, error: 0.042426882665229315\n",
      "\n",
      "##################DONE#############\n",
      "pinh = 7.498942093324559e-05\n",
      "Error: 0.042426882665229315\n",
      "T = 18000 h done in 321.64528703689575s \n",
      "\n"
     ]
    },
    {
     "data": {
      "image/png": "[encoded data removed]",
      "text/plain": [
       "<Figure size 432x288 with 1 Axes>"
      ]
     },
     "metadata": {
      "needs_background": "light"
     },
     "output_type": "display_data"
    },
    {
     "name": "stdout",
     "output_type": "stream",
     "text": [
      "Fitted pinh: [3.924189758484536e-13, 7.498942093324559e-05]\n"
     ]
    }
   ],
   "source": [
    "def binary_search(inhibitor, lower_bound=1e-16, upper_bound=1):\n",
    "    max_iter = 10 \n",
    "    while max_iter > 0:\n",
    "        timer1 = time()\n",
    "        pinh = np.sqrt(upper_bound*lower_bound)\n",
    "        print(f'pinh = {pinh}')\n",
    "        _, ttime_list, ttotal_mass_list = simulate_fibrilation(pinh, inhibitor)\n",
    "        estimated_mass = ttotal_mass_list[-1]\n",
    "\n",
    "        if estimated_mass >= fit_mass:\n",
    "            lower_bound = pinh\n",
    "        else:\n",
    "            upper_bound = pinh\n",
    "        max_iter -= 1\n",
    "        print(f'Finished in {time() - timer1}s, Total mass: {estimated_mass}, error: {abs(estimated_mass /fit_mass -1)}\\n')\n",
    "        if abs(estimated_mass / fit_mass - 1) < 0.05:\n",
    "            print('##################DONE#############')\n",
    "            print(f'pinh = {pinh}')\n",
    "            print(f'Error: {abs(estimated_mass / fit_mass - 1)}')\n",
    "            break\n",
    "        \n",
    "    return pinh, ttime_list, ttotal_mass_list\n",
    "    \n",
    "all_fitted_pinh = []\n",
    "inhibitors = [CsgC, QFG]\n",
    "\n",
    "for inhibitor in inhibitors:\n",
    "    timer = time()\n",
    "    \n",
    "    pinh, time_list_fitted, total_mass_list_fitted = binary_search(inhibitor)\n",
    "    all_fitted_pinh.append(pinh)\n",
    "    print(f'T = {TOTAL_TIME} h done in {time() - timer}s \\n')\n",
    "    plt.plot(time_list, total_mass_list, label='Uninhibited')\n",
    "    plt.plot(time_list, [0.5*x for x in total_mass_list], label='50% of Uninhibited')\n",
    "    plt.plot(time_list_fitted, total_mass_list_fitted, label='Fit')\n",
    "    plt.xlabel('Time /s')\n",
    "    plt.ylabel('Mass')\n",
    "    plt.legend()\n",
    "    plt.title(f'Fit for {inhibitor.name} after {TOTAL_TIME}h, pinh = {pinh}')\n",
    "    plt.show()\n",
    "\n",
    "print(f\"Fitted pinh: {all_fitted_pinh}\")\n",
    "    \n",
    "    "
   ]
  },
  {
   "cell_type": "code",
   "execution_count": 6,
   "id": "0c418fc8",
   "metadata": {},
   "outputs": [
    {
     "data": {
      "image/png": "[encoded data removed]",
      "text/plain": [
       "<Figure size 432x288 with 1 Axes>"
      ]
     },
     "metadata": {
      "needs_background": "light"
     },
     "output_type": "display_data"
    }
   ],
   "source": [
    "plt.bar([inh.name for inh in inhibitors], np.array(all_fitted_pinh)*N_A/C_BACTERIA)\n",
    "plt.xlabel('Inhibitor')\n",
    "plt.ylabel('Estimated Required Production Rate')\n",
    "plt.title('Estimated Required Production Rate for Different Inhibitors')\n",
    "plt.yscale('log')\n",
    "plt.show()"
   ]
  },
  {
   "cell_type": "code",
   "execution_count": null,
   "id": "1ee12a6c",
   "metadata": {},
   "outputs": [],
   "source": []
  }
 ],
 "metadata": {
  "kernelspec": {
   "display_name": "Python 3",
   "language": "python",
   "name": "python3"
  },
  "language_info": {
   "codemirror_mode": {
    "name": "ipython",
    "version": 3
   },
   "file_extension": ".py",
   "mimetype": "text/x-python",
   "name": "python",
   "nbconvert_exporter": "python",
   "pygments_lexer": "ipython3",
   "version": "3.8.8"
  }
 },
 "nbformat": 4,
 "nbformat_minor": 5
}
