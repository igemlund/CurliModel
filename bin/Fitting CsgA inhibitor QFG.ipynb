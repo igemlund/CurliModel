{
 "cells": [
  {
   "cell_type": "markdown",
   "id": "6b884483",
   "metadata": {},
   "source": [
    "# Fitting rate parameterfor CsgA inhibitor"
   ]
  },
  {
   "cell_type": "markdown",
   "id": "acff51eb",
   "metadata": {},
   "source": [
    "In this notebook, we will derive a numerical model for the CsgA inhibitor QFGGGNPP (QFG) based on an article by <a href=\"https://www.sciencedirect.com/science/article/pii/S0022283605008168\"> I. Cherny</a>. In the article, <i>E.Coli</i> is grown in 300 $\\mu$M QFG for 5-7 h. A 30 % decrease in Curli polymerisation was observed through a fluorescence assay. The bacteria concentration in the experiment was approximately $10^9 \\frac{bacteria}{dm^3}$ ($OD_{600}=1.2$). \n",
    "\n",
    "In the paper, QFG is descibed to bind 1 to 1 with CsgA monomers. We therefore assume the following equilibrium:\n",
    "$$CsgA + QFG \\rightleftharpoons CsgA-QFG$$\n",
    "This gives us the rate equation for QFG:\n",
    "$$\\frac{d[QFG]}{dt} = k_d [CsgA-QFG] - k_a [CsgA][QFG]$$\n",
    "and, extending on the rate equations for CsgA described in [link to notebook]:\n",
    "$$\\frac{d[CsgA]}{dt} = pA - k_+[Curli][CsgA] + k_d [CsgA-QFG] - k_a [CsgA][QFG]$$\n",
    "where $pA$ and $k_+$ are the production rate of CsgA and the elongation rate of Curli, $k_d$ is the disassociation costant for CsgA-QFG and $k_a$ is the association constant. We can, for simplicity, assume that the disassociation is small. Also, since the inhibitor concentration is much greater than the Curli concentration, we can assume a constant QFG concentration. We are then left to estimate the association constant $k_a$.\n",
    "\n",
    "We have implemented a more flexible, and object oriented, version of the model described in [link to notebook]."
   ]
  },
  {
   "cell_type": "code",
   "execution_count": 1,
   "id": "263b36fb",
   "metadata": {},
   "outputs": [
    {
     "name": "stdout",
     "output_type": "stream",
     "text": [
      "Documentation UniformFibrilFormation\n",
      "\n",
      "    Simulates Curli fibril formation given environment and inhibitors.\n",
      "\n",
      "    ...\n",
      "\n",
      "    Attributes\n",
      "    ----------\n",
      "    dist: float\n",
      "        total simulated distance from bacteria cell membrane\n",
      "    CSGBRATE: constant 1.3e-13\n",
      "        production rate of CsgB protein (nbr/bacteria/s)\n",
      "    xsteps: int\n",
      "        number of bins to keep track of fibrils in\n",
      "    deltat: float\n",
      "        length of one timestep\n",
      "    deltax: float\n",
      "        length of one bin\n",
      "    cBacteria: float\n",
      "        bacteria concentration\n",
      "\n",
      "    Methods\n",
      "    ----------\n",
      "    timeStep:\n",
      "        Steps time forward one timestep\n",
      "        Args:\n",
      "            None\n",
      "        Returns:\n",
      "            None\n",
      "    getTime:\n",
      "        Returns the total time simulated this far\n",
      "        Args:\n",
      "            None\n",
      "        Returns:\n",
      "            total time (float)\n",
      "    getMass:\n",
      "        Returns the total mass of Curli fibrils (/CsgA mass)\n",
      "        Args:\n",
      "            None\n",
      "        Returns:\n",
      "            total mass (int)\n",
      "    getMassProfile:\n",
      "        Returns mass distribution of Curli at different distances from the membrane\n",
      "        Args:\n",
      "            None\n",
      "        Returns:\n",
      "            1d array of mass distribution (np.array)\n",
      "    getFibrils:\n",
      "        Returns list of all fibrils\n",
      "        Args:\n",
      "            None\n",
      "        Returns:\n",
      "            list of CurliFibril objects (list)\n",
      "\n",
      "    \n",
      "UniformFibrilFormation __init__ function\n",
      "\n",
      "        Initialises the class.\n",
      "        \n",
      "        Args:\n",
      "            dist (float): Maximum distance from cell membrane to simulate (m)\n",
      "            xsteps (int): Number of bins to devide dist into\n",
      "            deltat (float): Length of one timestep (s)\n",
      "            inhibitors (list): List of inhibitor objects. Defaults to [].\n",
      "            cBacteria (float): Bacteria concentration in environment. Defaults to 1e12.\n",
      "            inital_concentration (float): Inital CsgA concentration. Defaults to None.\n",
      "            fibril0 (UniformFibrilFormation): Inital fibrils. Defaults to None.\n",
      "        \n",
      "        Returns:\n",
      "            None\n",
      "        \n",
      "\n",
      "    An object describing one Curli fibril.\n",
      "    \n",
      "    Attributes\n",
      "    ----------\n",
      "    SIGMA: constant 3.47\n",
      "        average angle difference between two Curli subunits (/degrees)\n",
      "    KPLUS: constant 1.4e6\n",
      "        Elongation rate (/mol/s)\n",
      "    UNITL: constant 4e-9\n",
      "        length of one subunit\n",
      "    pos: float\n",
      "        distance from cell membrane (/m)\n",
      "    alpha: float\n",
      "        angle deviation from original orientation\n",
      "    size: int\n",
      "        number of subunits\n",
      "    index: int\n",
      "        number of fibrils created before this one\n",
      "    \n",
      "    Methods\n",
      "    -------\n",
      "    None\n",
      "    \n",
      "    \n"
     ]
    }
   ],
   "source": [
    "%matplotlib inline\n",
    "import matplotlib.pyplot as plt\n",
    "import numpy as np\n",
    "from IPython.display import display, Math, Latex\n",
    "from fibrilformation import UniformFibrilFormation, CurliFibril\n",
    "print('Documentation UniformFibrilFormation')\n",
    "print(UniformFibrilFormation.__doc__)\n",
    "print('UniformFibrilFormation __init__ function')\n",
    "print(UniformFibrilFormation.__init__.__doc__)\n",
    "print(CurliFibril.__doc__)"
   ]
  },
  {
   "cell_type": "markdown",
   "id": "cc7e5b0c",
   "metadata": {},
   "source": [
    "Using the class UniformFibrilFormation, it is easy to supply an inhibitor. When we define it, we let the rate constant $k_a$ be an argument to the class, giving us the ability to later fit it. "
   ]
  },
  {
   "cell_type": "code",
   "execution_count": 2,
   "id": "08f65337",
   "metadata": {},
   "outputs": [],
   "source": [
    "class QFGStatic(object):\n",
    "    C = 3e-4 #Fixed concentration\n",
    "    def __init__(self, deltat, KA):\n",
    "        \"\"\"\n",
    "        To simulate the rate equation, we need to know the length of one timestep, as well as the rate constant k_a.\n",
    "        \"\"\"\n",
    "        self.KA = KA\n",
    "        self.deltat = deltat\n",
    "    \n",
    "    def timeStep(self, other):\n",
    "        \"\"\"\n",
    "        Here, other is an object containing the CsgA concentration (among other things). We can easily change it inplace by\n",
    "        accessing the 'c' attribute. \n",
    "        \"\"\"\n",
    "        other.c -= max(self.KA*self.C*other.c*self.deltat, 0)\n",
    "    def rateFunc(self,other, kwrates):\n",
    "        \"\"\"\n",
    "        This function is required for all inhibitor objects because of lazy programming. \n",
    "        \"\"\"\n",
    "        return kwrates"
   ]
  },
  {
   "cell_type": "markdown",
   "id": "382f5d21",
   "metadata": {},
   "source": [
    "Defining parameters and constants:"
   ]
  },
  {
   "cell_type": "code",
   "execution_count": 3,
   "id": "54f928f1",
   "metadata": {},
   "outputs": [
    {
     "data": {
      "text/latex": [
       "Maximum distance from cell: $20.0\\mu m$"
      ],
      "text/plain": [
       "<IPython.core.display.Latex object>"
      ]
     },
     "metadata": {},
     "output_type": "display_data"
    },
    {
     "data": {
      "text/latex": [
       "Length of one xBin: $0.04\\mu m$"
      ],
      "text/plain": [
       "<IPython.core.display.Latex object>"
      ]
     },
     "metadata": {},
     "output_type": "display_data"
    },
    {
     "data": {
      "text/latex": [
       "Total simulated time: $7.0 hours$"
      ],
      "text/plain": [
       "<IPython.core.display.Latex object>"
      ]
     },
     "metadata": {},
     "output_type": "display_data"
    },
    {
     "data": {
      "text/latex": [
       "Length of one timestep: $0.5s$"
      ],
      "text/plain": [
       "<IPython.core.display.Latex object>"
      ]
     },
     "metadata": {},
     "output_type": "display_data"
    },
    {
     "data": {
      "text/latex": [
       "Bacteria concentration: $10^9 bac/dm^3$"
      ],
      "text/plain": [
       "<IPython.core.display.Latex object>"
      ]
     },
     "metadata": {},
     "output_type": "display_data"
    }
   ],
   "source": [
    "MAX_DISTANCE = 2e-5 #m\n",
    "N_XSTEPS = 500\n",
    "x_step_length = MAX_DISTANCE / N_XSTEPS\n",
    "TIME_STEP_LENGTH = 0.5 #s\n",
    "TOTAL_TIME = 7*3600 #s\n",
    "C_BACTERIA = 1e9 #bac / dm3\n",
    "\n",
    "display(Latex(f'Maximum distance from cell: ${MAX_DISTANCE *1e6}\\mu m$'))\n",
    "display(Latex(f'Length of one xBin: ${x_step_length*1e6}\\mu m$'))\n",
    "display(Latex(f'Total simulated time: ${TOTAL_TIME /3600} hours$'))\n",
    "display(Latex(f'Length of one timestep: ${TIME_STEP_LENGTH}s$'))\n",
    "display(Latex(f'Bacteria concentration: $10^{int(np.log10(C_BACTERIA))} bac/dm^3$'))"
   ]
  },
  {
   "cell_type": "markdown",
   "id": "55ab16e1",
   "metadata": {},
   "source": [
    "Now we can define a simple model with a QFG inhibitor that has a association parameter of 0 and therefore does nothing to affect the fibril formation."
   ]
  },
  {
   "cell_type": "code",
   "execution_count": 4,
   "id": "8c3bfb5a",
   "metadata": {},
   "outputs": [
    {
     "name": "stdout",
     "output_type": "stream",
     "text": [
      "Running 50400 timesteps of 0.5 s\n"
     ]
    },
    {
     "data": {
      "text/plain": [
       "Text(0, 0.5, 'Mass /CsgA Monomer Mass')"
      ]
     },
     "execution_count": 4,
     "metadata": {},
     "output_type": "execute_result"
    },
    {
     "data": {
      "image/png": "[encoded data removed]",
      "text/plain": [
       "<Figure size 432x288 with 1 Axes>"
      ]
     },
     "metadata": {
      "needs_background": "light"
     },
     "output_type": "display_data"
    }
   ],
   "source": [
    "def simulate_fibrilation(total_time, ka):\n",
    "    n_time_steps = int(total_time / TIME_STEP_LENGTH)\n",
    "    qfg = QFGStatic(ka, TIME_STEP_LENGTH)\n",
    "    \n",
    "    model = UniformFibrilFormation(MAX_DISTANCE, N_XSTEPS, TIME_STEP_LENGTH, inhibitors=[qfg], \n",
    "                                   cBacteria=C_BACTERIA)\n",
    "\n",
    "    total_mass_list = []\n",
    "    time_list = []\n",
    "    print(f'Running {n_time_steps} timesteps of {TIME_STEP_LENGTH} s')\n",
    "    for t in range(n_time_steps):\n",
    "        model.timeStep()\n",
    "        total_mass_list.append(model.getMass())\n",
    "        time_list.append(model.getTime())\n",
    "    return model, time_list, total_mass_list\n",
    "\n",
    "_, time_list, total_mass_list = simulate_fibrilation(TOTAL_TIME, 0)\n",
    "plt.plot(time_list, total_mass_list)\n",
    "plt.title('Total Curli Fibril Mass Against Time')\n",
    "plt.xlabel('Time /s')\n",
    "plt.ylabel('Mass /CsgA Monomer Mass')"
   ]
  },
  {
   "cell_type": "markdown",
   "id": "31b3f7a6",
   "metadata": {},
   "source": [
    "We now have a model for fibril mass as a function of time. Let's call it $M(t,K_a)$, where $t$ is the time and K_a is the association constant. \n",
    "\n",
    "In the previously referenced paper, they detected a 30 % mass reduction after 5-7 hours incubation. We will therefore fit the parameter $K_a$ to $M(t,K_a) = 0.7M(t,0) $ with $|\\frac{M(t,K_a)}{0.7M(t,0)} - 1| \\leq 0.05$. \n",
    "\n",
    "We will perform the optimization for three differnt fibrillation times ($t_1 = 5h$, $t_1 = 6h$, $t_3=7h$) to properly include the incubation span. We are going to use the geometric mean in the binary search since the parameter space spanns several orders of magnitude. "
   ]
  },
  {
   "cell_type": "code",
   "execution_count": 6,
   "id": "2cd64f52",
   "metadata": {
    "scrolled": true
   },
   "outputs": [
    {
     "name": "stdout",
     "output_type": "stream",
     "text": [
      "KA = 1.0\n",
      "Running 36000 timesteps of 0.5 s\n",
      "Finished in 52.09951400756836s, Total mass: 862645, error: 0.15693192187670157\n",
      "\n",
      "KA = 10.0\n",
      "Running 36000 timesteps of 0.5 s\n",
      "Finished in 38.88482213020325s, Total mass: 353965, error: 0.5252816538354865\n",
      "\n",
      "KA = 3.1622776601683795\n",
      "Running 36000 timesteps of 0.5 s\n",
      "Finished in 42.11508512496948s, Total mass: 626996, error: 0.15910752709514986\n",
      "\n",
      "KA = 1.7782794100389228\n",
      "Running 36000 timesteps of 0.5 s\n",
      "Finished in 46.41119623184204s, Total mass: 756658, error: 0.014787999864812607\n",
      "\n",
      "##################DONE#############\n",
      "KA = 1.7782794100389228\n",
      "Error: 0.014787999864812607\n",
      "T = 5 h done in 180.39423632621765s \n",
      "\n"
     ]
    },
    {
     "data": {
      "image/png": "[encoded data removed]",
      "text/plain": [
       "<Figure size 432x288 with 1 Axes>"
      ]
     },
     "metadata": {
      "needs_background": "light"
     },
     "output_type": "display_data"
    },
    {
     "name": "stdout",
     "output_type": "stream",
     "text": [
      "KA = 1.0\n",
      "Running 43200 timesteps of 0.5 s\n",
      "Finished in 60.31624126434326s, Total mass: 1064185, error: 0.18281074561252386\n",
      "\n",
      "KA = 10.0\n",
      "Running 43200 timesteps of 0.5 s\n",
      "Finished in 50.41872262954712s, Total mass: 471736, error: 0.47567912544128177\n",
      "\n",
      "KA = 3.1622776601683795\n",
      "Running 43200 timesteps of 0.5 s\n",
      "Finished in 55.184547662734985s, Total mass: 800548, error: 0.11021412933031871\n",
      "\n",
      "KA = 1.7782794100389228\n",
      "Running 43200 timesteps of 0.5 s\n",
      "Finished in 56.91274428367615s, Total mass: 948131, error: 0.05382009241658903\n",
      "\n",
      "KA = 2.3713737056616555\n",
      "Running 43200 timesteps of 0.5 s\n",
      "Finished in 54.657625913619995s, Total mass: 878005, error: 0.02412292157705276\n",
      "\n",
      "##################DONE#############\n",
      "KA = 2.3713737056616555\n",
      "Error: 0.02412292157705276\n",
      "T = 6 h done in 278.540922164917s \n",
      "\n"
     ]
    },
    {
     "data": {
      "image/png": "[encoded data removed]",
      "text/plain": [
       "<Figure size 432x288 with 1 Axes>"
      ]
     },
     "metadata": {
      "needs_background": "light"
     },
     "output_type": "display_data"
    },
    {
     "name": "stdout",
     "output_type": "stream",
     "text": [
      "KA = 1.0\n",
      "Running 50400 timesteps of 0.5 s\n",
      "Finished in 67.85281229019165s, Total mass: 1269290, error: 0.20541780359046968\n",
      "\n",
      "KA = 10.0\n",
      "Running 50400 timesteps of 0.5 s\n",
      "Finished in 53.91031312942505s, Total mass: 599155, error: 0.4309951988038605\n",
      "\n",
      "KA = 3.1622776601683795\n",
      "Running 50400 timesteps of 0.5 s\n",
      "Finished in 60.784335136413574s, Total mass: 979904, error: 0.06940594552110568\n",
      "\n",
      "KA = 1.7782794100389228\n",
      "Running 50400 timesteps of 0.5 s\n",
      "Finished in 78.2283124923706s, Total mass: 1141634, error: 0.08418560674408715\n",
      "\n",
      "KA = 2.3713737056616555\n",
      "Running 50400 timesteps of 0.5 s\n",
      "Finished in 64.68875575065613s, Total mass: 1064027, error: 0.010483884140706001\n",
      "\n",
      "##################DONE#############\n",
      "KA = 2.3713737056616555\n",
      "Error: 0.010483884140706001\n",
      "T = 7 h done in 326.7351267337799s \n",
      "\n"
     ]
    },
    {
     "data": {
      "image/png": "[encoded data removed]",
      "text/plain": [
       "<Figure size 432x288 with 1 Axes>"
      ]
     },
     "metadata": {
      "needs_background": "light"
     },
     "output_type": "display_data"
    },
    {
     "name": "stdout",
     "output_type": "stream",
     "text": [
      "Fitted KA: [1.7782794100389228, 2.3713737056616555, 2.3713737056616555]\n",
      "Averge KA: 2.1736756071207446, std = 0.27958733221192883\n"
     ]
    }
   ],
   "source": [
    "from time import time\n",
    "total_mass_after = {5 : total_mass_list[int(5*3600 / TIME_STEP_LENGTH)], 6:total_mass_list[int(6*3600 / TIME_STEP_LENGTH)],\n",
    "                    7 : total_mass_list[-1]}\n",
    "\n",
    "def binary_search_KA(t, true_mass, lower_bound=1e-2, upper_bound=1e2):\n",
    "    max_iter = 10\n",
    "    while max_iter > 0:\n",
    "        timer1 = time()\n",
    "        KA = np.sqrt(upper_bound*lower_bound)\n",
    "        print(f'KA = {KA}')\n",
    "        _, time_list, total_mass_list = simulate_fibrilation(t, KA)\n",
    "        estimated_mass = total_mass_list[-1]\n",
    "\n",
    "        if estimated_mass >= true_mass:\n",
    "            lower_bound = KA\n",
    "        else:\n",
    "            upper_bound = KA\n",
    "        max_iter -= 1\n",
    "        print(f'Finished in {time() - timer1}s, Total mass: {estimated_mass}, error: {abs(estimated_mass /true_mass -1)}\\n')\n",
    "        if abs(estimated_mass / true_mass - 1) < 0.05:\n",
    "            print('##################DONE#############')\n",
    "            print(f'KA = {KA}')\n",
    "            print(f'Error: {abs(estimated_mass / true_mass - 1)}')\n",
    "            break\n",
    "        \n",
    "    return KA, time_list, total_mass_list\n",
    "    \n",
    "all_fitted_KA = []\n",
    "for total_time in [5,6,7]:\n",
    "    timer = time()\n",
    "    true_mass = total_mass_after[total_time] * 0.7\n",
    "    KA, time_list_fitted, total_mass_list_fitted = binary_search_KA(total_time*3600, true_mass)\n",
    "    all_fitted_KA.append(KA)\n",
    "    print(f'T = {total_time} h done in {time() - timer}s \\n')\n",
    "    plt.plot(time_list, total_mass_list, label='Uninhibited')\n",
    "    plt.plot(time_list, [0.7*x for x in total_mass_list], label='70% of Uninhibited')\n",
    "    plt.plot(time_list_fitted, total_mass_list_fitted, label='Fit')\n",
    "    plt.xlabel('Time /s')\n",
    "    plt.ylabel('Mass')\n",
    "    plt.title(f'Fit after {total_time}h, KA = {KA}')\n",
    "    plt.show()\n",
    "\n",
    "print(f\"Fitted KA: {all_fitted_KA}\")\n",
    "print(f'Averge KA: {np.mean(all_fitted_KA)}, std = {np.std(all_fitted_KA)}')\n",
    "    \n",
    "    "
   ]
  },
  {
   "cell_type": "code",
   "execution_count": 13,
   "id": "7f964e80",
   "metadata": {},
   "outputs": [
    {
     "data": {
      "text/latex": [
       "$K_a = 2.1736756071207446 /mols$"
      ],
      "text/plain": [
       "<IPython.core.display.Latex object>"
      ]
     },
     "metadata": {},
     "output_type": "display_data"
    }
   ],
   "source": [
    "KA = np.mean(all_fitted_KA)\n",
    "display(Latex(f'$K_a = {KA} /mols$'))"
   ]
  },
  {
   "cell_type": "markdown",
   "id": "ec5f9acb",
   "metadata": {},
   "source": []
  }
 ],
 "metadata": {
  "kernelspec": {
   "display_name": "Python 3",
   "language": "python",
   "name": "python3"
  },
  "language_info": {
   "codemirror_mode": {
    "name": "ipython",
    "version": 3
   },
   "file_extension": ".py",
   "mimetype": "text/x-python",
   "name": "python",
   "nbconvert_exporter": "python",
   "pygments_lexer": "ipython3",
   "version": "3.8.8"
  }
 },
 "nbformat": 4,
 "nbformat_minor": 5
}
